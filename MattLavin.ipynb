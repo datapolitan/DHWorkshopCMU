{
 "cells": [
  {
   "cell_type": "code",
   "execution_count": 40,
   "metadata": {
    "collapsed": false
   },
   "outputs": [
    {
     "name": "stdout",
     "output_type": "stream",
     "text": [
      "<class 'str'>\n"
     ]
    }
   ],
   "source": [
    "import numpy as np\n",
    "import matplotlib\n",
    "%matplotlib inline\n",
    "\n",
    "import numpy as np\n",
    "\n",
    "#reading text from files (note that this is a relative path, so the text file must be in your current working directory)\n",
    "with open(\"moby_dick.txt\") as md:\n",
    "    md_text = md.read()\n",
    "\n",
    "print(type(md_text))"
   ]
  },
  {
   "cell_type": "code",
   "execution_count": null,
   "metadata": {
    "collapsed": true
   },
   "outputs": [],
   "source": [
    "#convert newlines and tabs to spaces\n",
    "md_text = md_text.replace('\\n', ' ').replace('\\t', ' ')\n",
    "#remove no-alpha characters, convert all to lowercase\n",
    "\n",
    "md_chars = []\n",
    "for char in md_text:\n",
    "    char = char.lower()\n",
    "    if char.isalpha():\n",
    "        md_chars.append(char)\n",
    "    else:\n",
    "        md_chars.append(' ')\n",
    "md_no_punct = ''.join(md_chars)\n",
    "\n",
    "#or with list comprehension, a loop shortcut ... much faster!\n",
    "#md_no_punct = ''.join(char.lower() if char.isalpha() else ' ' for char in md_text )"
   ]
  },
  {
   "cell_type": "code",
   "execution_count": 46,
   "metadata": {
    "collapsed": false
   },
   "outputs": [
    {
     "name": "stdout",
     "output_type": "stream",
     "text": [
      "[('being', 218), ('thing', 186), ('whaling', 126), ('something', 122), ('nothing', 114), ('going', 89), ('standing', 82), ('morning', 74), ('living', 71), ('looking', 70), ('having', 65), ('king', 57), ('coming', 53), ('taking', 52), ('turning', 52), ('running', 46), ('making', 45), ('touching', 44), ('anything', 43), ('saying', 40), ('concerning', 40), ('seeing', 37), ('leaving', 37), ('holding', 37), ('cutting', 37), ('spring', 35), ('sailing', 34), ('rolling', 34), ('rigging', 34), ('drawing', 33), ('during', 32), ('considering', 31), ('rising', 31), ('flying', 30), ('leaning', 28), ('swimming', 28), ('thinking', 28), ('giving', 28), ('feeling', 28), ('eyeing', 27), ('lightning', 27), ('cruising', 27), ('getting', 26), ('according', 26), ('bearing', 25), ('pulling', 24), ('floating', 24), ('owing', 24), ('following', 24), ('speaking', 23)]\n"
     ]
    }
   ],
   "source": [
    "#tokenization: convert string of moby_dick to a list of terms\n",
    "md_tokens = [i for i in md_no_punct.split(' ') if i != '']\n",
    "\n",
    "#slicing a list. There are better ways to remove front and back matter, but I wanted to show you how to traverse a list\n",
    "md_minus_front_back = md_tokens[3892:-2994]\n",
    "\n",
    "#matching ... get all words that end with 'ing'\n",
    "ing_words = []\n",
    "for i in md_minus_front_back:\n",
    "    if i[-3:] == 'ing':\n",
    "        ing_words.append(i)\n",
    "        \n",
    "from collections import Counter\n",
    "ing_counts = Counter(ing_words)\n",
    "print(ing_counts.most_common()[:50])"
   ]
  },
  {
   "cell_type": "code",
   "execution_count": 35,
   "metadata": {
    "collapsed": false
   },
   "outputs": [
    {
     "name": "stdout",
     "output_type": "stream",
     "text": [
      "According to Zipf's law, the alpha value (1.16) should be close to 1.\n"
     ]
    },
    {
     "data": {
      "image/png": "[encoded data removed]",
      "text/plain": [
       "<matplotlib.figure.Figure at 0x7f6ba8d46208>"
      ]
     },
     "metadata": {},
     "output_type": "display_data"
    }
   ],
   "source": [
    "def powerLaw(y, x):\n",
    "    \"\"\"\n",
    "    'When the frequency of an event varies as power of some attribute of that\n",
    "    event the frequency is said to follow a power law.' (wikipedia)\n",
    "    This is represented by the following equation, where c and alpha are\n",
    "    constants:\n",
    "    y = c . x ^ alpha\n",
    "    Args\n",
    "    --------\n",
    "    y: array with frequency of events >0\n",
    "    x: numpy array with attribute of events >0\n",
    "    Output\n",
    "    --------\n",
    "    (c, alpha)\n",
    "    c: the maximum frequency of any event\n",
    "    alpha: defined by (Newman, 2005 for details):\n",
    "        alpha = 1 + n * sum(ln( xi / xmin )) ^ -1\n",
    "    \"\"\"\n",
    "    c = 0\n",
    "    alpha = .0\n",
    "\n",
    "    if len(y) and len(y)==len(x):\n",
    "        c = max(y)\n",
    "        xmin = float(min(x))\n",
    "        alpha = 1 + len(x) * pow(sum(np.log(x/xmin)),-1)\n",
    "\n",
    "    return (c, alpha)\n",
    "\n",
    "\n",
    "import matplotlib.pyplot as plt\n",
    "\n",
    "def plotPowerLaws(y, x, c=[], alpha=[]):\n",
    "    \"\"\"\n",
    "    Plots the relationship between x and y and a fitted power law on LogLog\n",
    "    scale.\n",
    "    Args\n",
    "    --------\n",
    "    y: array with frequency of events >0\n",
    "    x: array with attribute of events >0\n",
    "    c: array of cs for various power laws\n",
    "    alpha: array of alphas for various power laws\n",
    "    \"\"\"\n",
    "    plt.figure()\n",
    "    plt.loglog()\n",
    "    plt.plot(x,\n",
    "             y,\n",
    "             'r+')\n",
    "    for _c, _alpha in zip(c,alpha):\n",
    "        plt.plot( (1, max(x)),\n",
    "                  (_c, _c * pow(max(x), _alpha)),\n",
    "                  label='~x^%.2f' % _alpha)\n",
    "        plt.legend()\n",
    "    plt.show()\n",
    "\n",
    "\"\"\"\n",
    "Checking against Zipfs law, where the frequency and rank of a word follow a specific power law\n",
    "\"\"\"\n",
    "\n",
    "y = [i[1] for i in ing_counts.most_common()]\n",
    "\n",
    "x = np.array(range(1,len(y)+1))\n",
    "\n",
    "#y is a list of counts\n",
    "#x is an np array of ranks\n",
    "\n",
    "c, alpha = powerLaw(y, x)\n",
    "print('According to Zipf\\'s law, the alpha value (%.2f) should be close to 1.' % alpha)\n",
    "plotPowerLaws(y, x, [c,c], [-1,-alpha])\n"
   ]
  },
  {
   "cell_type": "code",
   "execution_count": 49,
   "metadata": {
    "collapsed": false
   },
   "outputs": [
    {
     "name": "stdout",
     "output_type": "stream",
     "text": [
      "Note that if we disregard words that appear once, our alpha moves slightly away from 1 (1.17376317504)\n"
     ]
    },
    {
     "data": {
      "image/png": "[encoded data removed]",
      "text/plain": [
       "<matplotlib.figure.Figure at 0x7f6ba8e85a90>"
      ]
     },
     "metadata": {},
     "output_type": "display_data"
    },
    {
     "name": "stdout",
     "output_type": "stream",
     "text": [
      "Powerlaw functions courtesy of https://gist.github.com/diogojc/1394300\n"
     ]
    }
   ],
   "source": [
    "y = [i[1] for i in ing_counts.most_common() if i[1] > 1 ]\n",
    "\n",
    "x = np.array(range(1,len(y)+1))\n",
    "\n",
    "#y is a list of counts\n",
    "#x is an np array of ranks\n",
    "\n",
    "c, alpha = powerLaw(y, x)\n",
    "print('Note that if we disregard words that appear once, our alpha moves slightly away from 1 (%s)' % alpha)\n",
    "plotPowerLaws(y, x, [c,c], [-1,-alpha])\n",
    "print(\"\"\"Powerlaw functions courtesy of https://gist.github.com/diogojc/1394300\"\"\")"
   ]
  },
  {
   "cell_type": "code",
   "execution_count": null,
   "metadata": {
    "collapsed": true
   },
   "outputs": [],
   "source": []
  }
 ],
 "metadata": {
  "kernelspec": {
   "display_name": "Python 3",
   "language": "python",
   "name": "python3"
  },
  "language_info": {
   "codemirror_mode": {
    "name": "ipython",
    "version": 3
   },
   "file_extension": ".py",
   "mimetype": "text/x-python",
   "name": "python",
   "nbconvert_exporter": "python",
   "pygments_lexer": "ipython3",
   "version": "3.4.3"
  }
 },
 "nbformat": 4,
 "nbformat_minor": 0
}
