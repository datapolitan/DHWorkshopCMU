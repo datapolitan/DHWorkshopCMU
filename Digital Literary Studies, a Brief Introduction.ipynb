{
 "cells": [
  {
   "cell_type": "markdown",
   "metadata": {},
   "source": [
    "# Digital Literary Studies"
   ]
  },
  {
   "cell_type": "markdown",
   "metadata": {},
   "source": [
    "Matt Lavin, University of Pittsburgh"
   ]
  },
  {
   "cell_type": "markdown",
   "metadata": {},
   "source": [
    "Writing an introduction for digital literary studies is a daunting task. To do so, one must agree to wrestle the great bear that is literary studies or, perhaps even more dauntingly, that ubiquitous institution known as The English Department. Digital literary studies is probably the most established of all digital humanities subfields, the most varied in terms of its practitioners' motivations and position-takings, and the most often discussed in the discourse we might conveniently label \"public-facing digital humanities.\" To this third superlative, I would add that is often unfairly a stand-in for the whole of digital humanities. Almost any summary of the field will tell you that digital literary studies includes the markup tradition associated with textual and documentary editing (e.g. TEI, as well as the perhaps more often divisive subfield of computational text analysis, which has roots in both \"Humanities Computing\" and pre-computing attempts to make literary study a quantitative enterprise, such as Lucius Sherman. As Andrew Jewell has eloquently summarized, \"Sherman was the author of Analytics of Literature (1893), a book which articulated Sherman's system for the 'objective study' of literary prose. This system, which, among other things, computed the 'force-ratio' in passages, or the number of emphasized words in relation to the number of total words, involved a good deal of counting by Sherman and his students, and Sherman's methods inspired a healthy amount of ridicule.\" Most contemporary practitioners of computational analytics would distance themselves from figures like Sherman if given the chance, but the specter of Sherman (and voices like his) are so present among our less digitally inclined colleagues that it behooves us, as Jewell argues, to confront that legacy directly. That said, we should also claim the best of our Humanities Computing heritage, and in this I would include the pioneering work of Roberto Busa and the profound impact of Willard McCarty, among others. "
   ]
  },
  {
   "cell_type": "markdown",
   "metadata": {},
   "source": [
    "One of the biggest challenges with describing a multifaceted, interdisciplinary space with a varied history is that I have multiple points of entry. Autobiography is one such option. I came out of the University of Iowa's English department and did my comprehensive exams straddling the methodologies of of new historicism and book history. And most of my published work has been specifically focused on Willa Cather from a bibliography, book history, and authorship studies perspective. Prior to serving as a CLIR Postdoctoral Fellow at the Center for Digital Research in the Humanities at the University of Nebraska - Lincoln in 2012, my tie to the digital was my claim as \"a guy in the department who knows stuff about computers.\" After Nebraska, I had an alt-ac position managing a Mellon-funded digital humanities/integration/collaboration grant at St. Lawrence University in Canton, NY. Last year, I started at Pitt in another alt-ac role: Clinical Assistant Professor of English and Director of our Digital Media Lab. As a result of these choices, I've now spent about four years developing computational skills in pedagogical and research contexts. So for me, what it feels like to be situated within digital literary studies can be as complicated as my position on post-structuralist questions of representation, or my views on the implicit position-takings of algorithmic or quantitative thinking. Simultaneously, the question has been as concrete as which building my office was in, what I was allowed or required to teach, and who was likely to skip a meeting if the agenda related to digital humanities."
   ]
  },
  {
   "cell_type": "markdown",
   "metadata": {},
   "source": [
    "Another point of entry is to use digital methods to survey a small corner of literary studies discourse. Andrew Goldstone and Ted Underwood generated two different sets of topic models of  5,940 articles in _PMLA_, one generating 150 models covering 1924 to 2006 and another generating 100 models covering 1890–1999."
   ]
  },
  {
   "cell_type": "markdown",
   "metadata": {},
   "source": [
    "![5,940 articles in PMLA covering 1924 to 2006][pmla]\n",
    "\n",
    "[pmla]: http://pmla.site44.com/images/rage_css_imagemap.jpg\n"
   ]
  },
  {
   "cell_type": "markdown",
   "metadata": {},
   "source": [
    "For those of you who don't know, topic modeling has to some degree \"taken DH by storm\" in the past few years, as it's the kind of tool that digital humanities can really sink their teeth into. The idea is to use statistical inference to generate lists of co-occuring words across multiple documents. If you think about how topics of discussion in writteb materials work, it's reasonable to assume any given document in a set discusses more than one topic, and that any given topic could easily occur in more than one document. Checking co-occcurences one at a time across documents would take a theoretically insane amount of time, so we probablistic methods instead. And there are in fact many statistical approaches to modeling topics. In most cases, we set a somewhat number of topics we want our algorithm to find, say 50, 100, or 250, but not three or four. What all this means is that if we run the exact same topic modeling setup over and over again, we will get slightly different results each time. Further, the _PMLA_ visualization only goes to 2006 and thus does not reflect the post-2008 surge of interest in digital humanities. Even if we did update this particular line of inquiry, however, Goldstone and Underwood remind us that the _PMLA_ is just one journal, and the DH boom has been as much about new publications, and new modes of communication, as it has been an intervention in the trajectory of the existing literary studies field. I mention all this way of explanation and qualification, not as a means to dismiss topic models. Here's a closer look at Goldstone's 100 topic smodels of the _PMLA_:"
   ]
  },
  {
   "cell_type": "raw",
   "metadata": {},
   "source": [
    "0\t0.02922\tdefoe ship captain sea book crusoe voyage boswell boat island crew robinson rasselas confidence ahab vere made men guido \n",
    "1\t0.08976\tprofessor association university american modern members language mla committee scholars paper meeting society academy president proceedings scholarship scholarly annual \n",
    "2\t0.01305\tpor como lo para mas sus este pero sobre entre sin mismo tambien sino hay todo cuando ya obra \n",
    "3\t0.02648\tmss text manuscripts group fox versions version fable tales order wolf readings tale texts variants manuscript ff fables link \n",
    "4\t0.01002\tbeowulf grendel poet germanic saga dragon danes epic fight danish ff battle poem hall men heroic sword norse saxo \n",
    "5\t0.09633\tplay shakespeare plays scene dramatic drama stage act hamlet tragedy scenes action audience elizabethan plot characters speech comedy theater \n",
    "6\t0.03977\tcette meme vie temps aux critique pensee monde sens idees chez litterature pays passe revue realite conscience renan vue \n",
    "7\t0.04695\tdryden renaissance style heroic jonson rhetoric rhetorical prose classical seventeenth cicero stoic wit tradition english praise honor seneca epic \n",
    "8\t0.02987\tpastoral sonnet sonnets elegy eclogue shepherd lycidas shepherds arcadia shakespeare owl eclogues renaissance proverb thorpe proverbs ruines death english \n",
    "9\t0.02147\tpe english piers god alle hit hem pis middle ffor oure pou men hym pi holy plowman haue pan \n",
    "10\t0.01832\tlessing herder menschen sondern natur seiner ohne kunst mensch schiller gott herders menschlichen begriff wesen geschichte religion sprache mendelssohn \n",
    "11\t0.00807\tvnd nit hat jn daz mir ir fg vnnd ain auff wol mich vns dir dicit wil haben nr \n",
    "12\t0.51893\tpoint reader question interpretation meaning make reading view sense argument words word problem makes evidence read clear text readers \n",
    "13\t0.03222\tamerican black white african indian racial south slave colonial negro race slavery western native united cultural southern european africa \n",
    "14\t0.02678\tmir mich hebbel war gott alles dich alle liebe ohne dir frau welt meiner ff seele grillparzer mutter heinrich \n",
    "15\t0.09746\tdeath father life mother dream child dead family body dreams children psychological fear fantasy suicide guilt freud murder house \n",
    "16\t0.02534\tvgl deutschen fir form erst fur diese ohne sondern schon jedoch ersten gedicht stelle sprache teil zweiten zwischen spater \n",
    "17\t0.09497\tliterary literature critical studies history criticism cultural work texts theory historical text critics reading readers culture university study social \n",
    "18\t0.07521\tword words english verb meaning language examples form sense latin forms usage verbs construction present found grammar noun phrase \n",
    "19\t0.00451\treality ortega life theory world esthetic object ideas real concept philosophy reason lo lydgate view azorin type attitude quijote \n",
    "20\t0.0171\trussian state howells foreign tolstoy bs language soviet ba teachers north enrollments degree states cent west pushkin russia dostoevsky \n",
    "21\t0.02662\tsaint york plays play passion towneley liturgical legend church life text century cycle latin author wakefield manuscript christ abbot \n",
    "22\t0.15762\tpoem poet poems poetry poetic poets lines stanza verse lyric line ode stanzas written verses death theme words prose \n",
    "23\t0.10099\tlanguage english students teaching foreign teachers education languages study school college program schools teacher student modern research literature graduate \n",
    "24\t0.06777\tlui bien cette dont faire aux entre meme avait ont voltaire toute toutes point rien leurs ainsi etre faut \n",
    "25\t0.00701\toc adj og adv ibsen danish til som af om hann norwegian ther var cp norse det gaimar och \n",
    "26\t0.02386\tmusic ch dickens musical thackeray hardy sterne dream tristram vanity words wagner fair shandy bk chorus book esmond opera \n",
    "27\t0.02594\tknight romance gawain ff celtic sir castle grail arthurian romances welsh hero knights lion green lancelot perceval chretien french \n",
    "28\t0.00611\tkeats por nao read endymion como hyperion ao ll nom pera haydon nos deue bem lamia sem onde seu \n",
    "29\t0.16464\tsocial political society public people world national life class economic american culture politics government revolution state power system war \n",
    "30\t0.22171\tedition published book printed translation work works books original editions library author english title copy collection made text publication \n",
    "31\t0.30959\tpart lines passage end order form final original beginning section version earlier passages time book number made structure work \n",
    "32\t0.03527\tcum fol quia text super dei sunt quod sicut autem quem deus te eum latin dominus domini omnes post \n",
    "33\t0.00932\twoolf pound literal ramsay metaphorical pun text wine clennam language mallarme meaning nuance word discourse metaphor reading water lighthouse \n",
    "34\t0.00969\tdutch daz mhg ir low ze sin wb century author stems wol wolfram dat mir form high dwb parzival \n",
    "35\t0.03222\tgoethe faust wilhelm friedrich schiller schlegel tieck werther heinrich klopstock germany kleist deutsche heine deutschen novalis ludwig berlin goethes \n",
    "36\t0.02383\tvowel words pronunciation forms oe form final dialect french sound vowels development pronounced consonant change word initial latin phonetic \n",
    "37\t0.34675\ttime experience reality work sense form present point world human process structure concept individual reader meaning order real relationship \n",
    "38\t0.47265\tgreat manner interest taste character men mere true fine life account note perfect found effect familiar good high full \n",
    "39\t0.49217\tevidence found fact time note part early professor appears made ff passage case source date connection present similar find \n",
    "40\t0.00979\tbrowning sordello lo italian ab ch provengal macready tan canzone troubadour ital pistojese cor troubadours tot arnould cieco nos \n",
    "41\t0.01952\thym ye grete haue kyng ponthus hys bot wold made theym ther shuld god myght men tyme vnto full \n",
    "42\t0.22053\tenglish french century history literature modern literary england early historical middle latin period influence language classical great ancient popular \n",
    "43\t0.48978\tgood make made order law power reason time men part free set give place present end put find act \n",
    "44\t0.01192\tjudas saxon west ps latin wg forms psalter ws scribe sg germanic type pl examples northumbrian anglian gloss rc \n",
    "45\t0.02795\tnovels fiction poe gothic cooper characters richardson romance narrator story novelist reader plot novelists character reade hero heroine drf \n",
    "46\t0.20269\tnature human life world mind idea things god philosophy men thought truth ideas spirit reason soul moral natural spiritual \n",
    "47\t0.02754\tballad songs ballads popular dance child swinburne burns folk scottish peasant singing english collection primitive hood traditional stanzas tradition \n",
    "48\t0.14682\tlanguage narrative voice narrator writing fiction speech audience discourse rhetoric words trans rhetorical memory speaker verbal relation metaphor book \n",
    "49\t0.02958\twordsworth coleridge burke sublime hazlitt mind quincey prelude imagination southey lamb nature power godwin biographia lyrical objects mariner pleasure \n",
    "50\t0.0608\tline text manuscript whitman lines wrote reading written copy word made folio edition hand read writing changed quarto words \n",
    "51\t0.03524\tfrench montaigne henri histoire bibliotheque memoires strether abbe richelieu comte corneille livres francois essais livre avoit lettres cardinal duc \n",
    "52\t0.04154\tscience scientific bacon natural knowledge earth philosophy theory nature physical mathematical motion sciences scientists works body animal stars mathematics \n",
    "53\t0.42972\twork years literary works wrote author great writing time life read written early found published thought interest made book \n",
    "54\t0.0107\ttwain ronsard bellay clemens fontaine humor kane huck huckleberry morel rosebud yankee connecticut skinner pilot finn book passage empirical \n",
    "55\t0.04558\tswift satire pope fielding essay addison smollett political steele satiric ridicule eighteenth author shaftesbury whig satires gulliver butler walpole \n",
    "56\t0.16496\twife marriage woman father husband daughter lover lovers family married girl mother women house tells heroine sister type child \n",
    "57\t0.02863\tmme balzac proust flaubert madame french novels stendhal gide julien rue etait characters princesse maupassant bovary femme revue recherche \n",
    "58\t0.01921\tche gli piu nel lo suo sua sono io delle perche questo quando ogni mio quella loro cosi dei \n",
    "59\t0.29634\tmoral character life characters human makes hero passion comic nature tragic evil tragedy attitude action heart view feeling social \n",
    "60\t0.18532\tletter letters wrote written life time friend years march dated july friends october days day december write february year \n",
    "61\t0.01475\tpor lo mas yo tan quien pues te sin ya porque como para amor ser bien todo sus tal \n",
    "62\t0.03068\ttheatre stage play acted comedy sir garrick acting plays london entertainments restoration written persons drury company actors singing part \n",
    "63\t0.00822\tbat lond pe hem made wib sone sche bi rawl men regned seyd hadde ber anon gode hir gret \n",
    "64\t0.40351\tmake time good made people things give thing find back put great world kind men words called call day \n",
    "65\t0.03971\thawthorne shaw thoreau house american forster ment romance infiuence tions tween sion marble judge walden ture ence blithedale artist \n",
    "66\t0.09211\tsir lord london court house year duke years records oxford essex england bishop record made money company office paid \n",
    "67\t0.01537\tfilm japanese chinese war hemingway theater films camera kafka japan farewell deronda zuckmayer faulkner cinema brecht production machine service \n",
    "68\t0.00683\tlo por vos bien yo quando muy nos cid te mas spanish interpolation dios castilian buen century ke mal \n",
    "69\t0.09516\timage images meaning symbol imagery allegory figure symbolic symbolism metaphor allegorical figures symbols color nature word light poetic significance \n",
    "70\t0.01363\tmarlowe faustus tamburlaine pt auden doctor yks saturn gr magic astrological early mars sign friar loss blood faust conjunction \n",
    "71\t0.04855\tsir hath elizabethan english good haue donne doth great doe men make owne sig drayton loue selfe true onely \n",
    "72\t0.01456\teliot nietzsche mann rilke existence human world time life heidegger jacobsen broch existential hermann hesse authentic true modern means \n",
    "73\t0.07382\treview american article articles carlyle magazine journal literary published editor poe reviews monthly appeared york tennyson quarterly london edinburgh \n",
    "74\t0.01954\tspenser faerie book queene garden sins adonis books allegory stanza knight horn cantos lucretius calender deadly britomart poem tupper \n",
    "75\t0.09729\tcriticism poetry romantic literary artist modern essay critics critical aesthetic critic beauty artistic imagination theory painting essays romanticism literature \n",
    "76\t0.28094\tlife nature light beauty mind heart earth time night dark spirit soul passage death beautiful thought eyes memory sea \n",
    "77\t0.0211\tspanish spain lope nos mexico mexican revista madrid cervantes literary garcia latin unamuno quixote tirso comedias comedia calderon para \n",
    "78\t0.00699\tcd coriolanus vergil scottish ritson fuente aeneid ane loc ovejuna poet aeneas appears eneas comendador rn scotland dido political \n",
    "79\t0.11449\tthy thou thee lines hath ye words death make passage line passages doth sweet hast fair till hand speech \n",
    "80\t0.02407\tbien vos quant tant por french fu lui dieu estoit guillaume dit puis cil te estre qe nostre ot \n",
    "81\t0.04316\tverse line lines syllables english metrical rhythm rhyme syllable stress stanza meter rime pattern couplet words iambic prose rhymes \n",
    "82\t0.0861\tgod paradise christ divine satan biblical heaven sin lost evil book soul hell medieval bible death fall cain devil \n",
    "83\t0.12944\tstory tale stories narrative version tales legend told versions episode hero source account incident form author life plot death \n",
    "84\t0.44861\tgeneral study method type form subject part nature theory work words important elements development common number style relation case \n",
    "85\t0.08517\tchurch religious religion catholic god protestant sermon holy christ doctrine spiritual sermons christianity puritan bishop reformation theological ecclesiastical true \n",
    "86\t0.00739\tic participle pe swa mid appositive latin pset english ge ac object hu indirect hie hit pu ofer ealle \n",
    "87\t0.25207\tplace description city head scene house red back picture black water animal side white set stone green found figure \n",
    "88\t0.04186\tquod cum sed quam nec ab ac autem quo hoc atque quid esse sibi quae tamen enim vel sic \n",
    "89\t0.01265\tpascal moliere dom daudet langue tartuffe dict frangais alceste dictionnaire montegut mots piles misanthrope sganarelle amphitryon francais french groupes \n",
    "90\t0.02841\tchaucer tale troilus canterbury prologue tales criseyde medieval hir legend knight story nat pardoner book lines good wife pilgrims \n",
    "91\t0.04328\tgreek epic myth classical rabelais gods prometheus ancient apollo mythology iliad homeric pantagruel age renaissance greeks pagan achilles myths \n",
    "92\t0.32711\tworld life final end vision death scene image role personal human takes act moment earlier early sees finally suggests \n",
    "93\t0.05368\ttext culture subject cultural representation relation trans identity discourse object difference power performance reading space authority theory aesthetic sign \n",
    "94\t0.03648\tnur noch hat ihm um seiner diese war selbst fur mehr iiber ihn denn uns haben seinen schon seinem \n",
    "95\t0.04101\twomen male female sexual woman gender men feminine masculine feminist sex body sexuality patriarchal power mother social pleasure erotic \n",
    "96\t0.03141\titalian italy petrarch british boccaccio museum tasso translated translation latin rome machiavelli renaissance translations paolo commedia comedy written pietro \n",
    "97\t0.04632\trousseau vers baudelaire nouvelle lettre suis aux discours racine poete edition camus yeux vos jour theatre poesie french nuit \n",
    "98\t0.04197\tlatin erasmus cap quae aut lib vel sive sunt opera ab sed map libri liber enim mediaeval fol esse \n",
    "99\t0.11913\twar historical history great political english battle death events military england french people army peace caesar men british civil "
   ]
  },
  {
   "cell_type": "markdown",
   "metadata": {},
   "source": [
    "As you can see, these data resist easy interpretation, and there's more to say about it that I have time for today, but I would love to encourage you all to take a closer look at both the visualization and the underlying models if you haven't seen them before. For the moment, I want to call your attention to something Goldstone and Underwood remark upon in their accompanying blog post for \"The Stone and the Shell,\" which is that the model \"evidence found fact time note part early professor appears made ff passage case source date connection present similar find\" experience a drop in prominence between 1960 and 1980. To quote Goldstone and Underwood:\n",
    "\n",
    "> Apparently, critics in the 1960s developed a habit of describing literature in terms of problems, questions, and  significant moments of action or choice; the habit intensified through the early 1980s and then declined. This habit may not have a name; it may not line up neatly with any recognizable school of thought. But it’s a fact about critical history worth knowing.\n",
    "\n",
    "The less obvious but crucial context for this analysis is that digital humanities is deeply invested in inquiry, evidence, discovery, and \"facts worth knowing.\" This is generally true of both textual studies and formalism--the two most dominant interpretive frames in digital literary studies. What counts as evidence and how that evidence makes meaning varies significantly between these schools of thought, but Golstone and Underwood astutely point to the biggest challenge facing practitioners of digital literary studies today: an entire generation of literary scholars were heavily influence by the critical theory movement, which lodges a substantial critique against totalistic systes of empiricism and quantitification. Many digital humanities scholars would argue that digital humanities is, at its best, both an engagement with and critique of something loosely akin to \"logicial positivism.\" (Yesterday, we heard the term essentializing, which I think nudges at similar concerns.) Others, of course, would urge the humanities to be more quantitiative or evidence-driven. To engage in digital literary studies is to confront the tensions and gains associated with genuine differences of perspective. As a result, I like to think of Goldstone and Underwood's topic models as digital humanities, looking through a keyhole at literary studies, and somehow accidentally getting a better picture of itself in the process. "
   ]
  },
  {
   "cell_type": "markdown",
   "metadata": {
    "collapsed": true
   },
   "source": [
    "On this note, I want to transition to more of some literary studies DH work that I think is really representative of the computational side of the discipline (and in general work that I really like, though I'm sure I've left out many great pieces here). Much of the scholarship I'll discuss is tentative, or incomplete, or overdue for an update, but that's the nature of digital humanities. In fact, one of its greatest strengths is its interest in continuing to refine its methods and reach new insights, often through collaborative effort.  "
   ]
  },
  {
   "cell_type": "markdown",
   "metadata": {},
   "source": [
    "Stanford Lit Lab \"Pamphlet #8\"\n",
    "\n",
    "Mark Algee-Hewitt and Mark McGurl\n",
    "\n",
    "![McGurl and Algee-Hewitt on Canonicity][mcgurl]\n",
    "[mcgurl]: mcgurl2.png"
   ]
  },
  {
   "cell_type": "markdown",
   "metadata": {},
   "source": [
    "Andrew Piper and Eva Portelance, \"How Cultural Capital Works: Prizewinning Novels, Bestsellers, and the Time of Reading,\" http://post45.research.yale.edu/2016/05/how-cultural-capital-works-prizewinning-novels-bestsellers-and-the-time-of-reading/\n",
    "\n",
    "![Nostalgia Terms by Category][cultural]\n",
    "[cultural]: http://post45.research.yale.edu/wp-content/uploads/2016/04/Fig_61.jpg"
   ]
  },
  {
   "cell_type": "markdown",
   "metadata": {
    "collapsed": true
   },
   "source": [
    "Matthew Jockers, Syuzhet. https://storify.com/clancynewyork/contretemps-a-syuzhet"
   ]
  },
  {
   "cell_type": "markdown",
   "metadata": {},
   "source": [
    "Underwood and Sellers on \"The Emergence of Literary Diction\"\n",
    "\n",
    "![Germanic-Latin Ratio, by Genre][jdh]\n",
    "[jdh]: http://journalofdigitalhumanities.org/wp-content/uploads/2012/05/PoetryFictionNon.jpg"
   ]
  },
  {
   "cell_type": "markdown",
   "metadata": {},
   "source": [
    "## My work:\n",
    "- Lovecraft, authorship, hack-writing\n",
    "- Lovecraft on Addison & Steele, _Walker's Dictionary_\n",
    "- Walker Ratio\n",
    "- Neologisms - OED Data\n",
    "- Machine learning on year-based samples\n",
    "- Broader analysis of horr, how it relates to other supernatural subgenres"
   ]
  },
  {
   "cell_type": "markdown",
   "metadata": {},
   "source": [
    "## Other Articles of Interest\n",
    "- Ryan Cordell, \"Reprinting, Circulation, and the Network Author in Antebellum Newspapers\"\n",
    "- Douglas Ernest Duhaime, \"Textual Reuse in the Eighteenth Century: Mining Eliza Haywood’s Quotations\" http://www.digitalhumanities.org/dhq/vol/10/1/000229/000229.html\n",
    "- Marissa Gemma, Frédéric Glorieux, Jean-Gabriel Ganascia, \"Operationalizing the Colloquial Style: Repetition in 19th-Century American Fiction\"\n"
   ]
  },
  {
   "cell_type": "code",
   "execution_count": null,
   "metadata": {
    "collapsed": true
   },
   "outputs": [],
   "source": []
  }
 ],
 "metadata": {
  "kernelspec": {
   "display_name": "Python 3",
   "language": "python",
   "name": "python3"
  },
  "language_info": {
   "codemirror_mode": {
    "name": "ipython",
    "version": 3
   },
   "file_extension": ".py",
   "mimetype": "text/x-python",
   "name": "python",
   "nbconvert_exporter": "python",
   "pygments_lexer": "ipython3",
   "version": "3.5.1"
  }
 },
 "nbformat": 4,
 "nbformat_minor": 0
}
